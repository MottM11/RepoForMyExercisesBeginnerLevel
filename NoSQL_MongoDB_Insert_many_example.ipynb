{
 "cells": [
  {
   "cell_type": "code",
   "execution_count": null,
   "id": "99866dbd-c8e8-4fff-a695-04e2a03b3225",
   "metadata": {},
   "outputs": [],
   "source": []
  },
  {
   "cell_type": "code",
   "execution_count": 2,
   "id": "af6d0229-5655-445f-b99b-c47fb10b99d1",
   "metadata": {},
   "outputs": [],
   "source": [
    "# !pip install pymongo"
   ]
  },
  {
   "cell_type": "code",
   "execution_count": 3,
   "id": "cda1b097-e7cf-4382-b5a7-d52c91577ee1",
   "metadata": {},
   "outputs": [],
   "source": [
    "from pymongo import MongoClient"
   ]
  },
  {
   "cell_type": "markdown",
   "id": "6a1cc7cd-8428-49c3-9bbf-8ac426ed2e39",
   "metadata": {},
   "source": [
    "- 既存の任意のdb名を指定した場合、そのdbに接続される If you put existing specific db name, then you connect the db. \n",
    "- 存在しないdb名を指定すると、新しくその名前でdbが作成される If you put not existing db name, then new db will be created automatically."
   ]
  },
  {
   "cell_type": "code",
   "execution_count": null,
   "id": "6f673ead-e18a-4b45-8d54-65d6d6df7cfc",
   "metadata": {},
   "outputs": [],
   "source": [
    "client = MongoClient('mongodb://localhost:27017/') # Adjust the connection string as needed\n",
    "\n",
    "db = client['your_db_name']  # Replace with your database name\n",
    "\n",
    "collection = db['your_collection_name']  # Replace with your collection name\n"
   ]
  },
  {
   "cell_type": "code",
   "execution_count": null,
   "id": "bb3fd02b-3edf-4674-806d-2c3cb9c1049f",
   "metadata": {},
   "outputs": [],
   "source": []
  },
  {
   "cell_type": "code",
   "execution_count": null,
   "id": "2c139246-dda5-4545-a3b6-30eb34a363fb",
   "metadata": {},
   "outputs": [],
   "source": [
    "documents = [\n",
    "    {\n",
    "        \"item_id\": \"125365782514\", \n",
    "        \"UserID\":\"UC*************\", \n",
    "        \"UserName\":\"user_sample\", \n",
    "        \"ContentData\": \"test_content\", \n",
    "        \"Modified_date\":\"2024-11-10 12:02:54\", \n",
    "        \"Created_date\":\"2020-04-27 21:20:34\" \n",
    "    }\n",
    "]"
   ]
  },
  {
   "cell_type": "markdown",
   "id": "ecd1c251-4e3f-42e4-9902-8f22691b3ad5",
   "metadata": {},
   "source": [
    "- insert_many で複数ドキュメントデータを一括挿入する bulk insert \n",
    "documents data to collection using insert_many(documents) method"
   ]
  },
  {
   "cell_type": "code",
   "execution_count": null,
   "id": "95816e41-f2b4-495d-a782-333428f8b652",
   "metadata": {},
   "outputs": [],
   "source": [
    "result = collection.insert_many(documents)"
   ]
  },
  {
   "cell_type": "markdown",
   "id": "654220ec-b241-4b03-a2b3-eb26417a0b3b",
   "metadata": {},
   "source": [
    "- いま一括で取り込んだdocumentデータのIDを出力"
   ]
  },
  {
   "cell_type": "code",
   "execution_count": null,
   "id": "e8382f83-8d7f-4089-b49d-32b38d2389ee",
   "metadata": {},
   "outputs": [],
   "source": [
    "print(\"Inserted document IDs:\", result.inserted_ids)"
   ]
  },
  {
   "cell_type": "code",
   "execution_count": null,
   "id": "f9a73fd3-0de9-4f45-8b2f-fb3ecaec4ba2",
   "metadata": {},
   "outputs": [],
   "source": []
  },
  {
   "cell_type": "markdown",
   "id": "45e02d0c-fb54-47c4-9280-237af9616d18",
   "metadata": {},
   "source": [
    "- gzipで事前に準備したjsonデータを圧縮する"
   ]
  },
  {
   "cell_type": "code",
   "execution_count": null,
   "id": "8f1aa769-919e-4b36-a767-02ef35a2457e",
   "metadata": {},
   "outputs": [],
   "source": [
    "import gzip\n",
    "import shutil\n",
    "with open('output.json', 'rb') as f_in:\n",
    "    with gzip.open('comp_output.json.gz', 'wb') as f_out:\n",
    "        shutil.copyfileobj(f_in, f_out)"
   ]
  },
  {
   "cell_type": "code",
   "execution_count": null,
   "id": "3019a366-2adb-49f1-84b6-357b6caad0dc",
   "metadata": {},
   "outputs": [],
   "source": []
  },
  {
   "cell_type": "code",
   "execution_count": 4,
   "id": "da1fd8b7-1737-40de-98cb-a3cdd4b65a43",
   "metadata": {},
   "outputs": [],
   "source": [
    "# Function to load JSON data in chunks\n",
    "def load_json_in_chunks(file_path, chunk_size=1000):\n",
    "    with gzip.open(file_path, 'rt', encoding='utf-8') as file:\n",
    "        data = json.load(file)\n",
    "        for i in range(0, len(data), chunk_size):\n",
    "            yield data[i:i + chunk_size]\n"
   ]
  },
  {
   "cell_type": "code",
   "execution_count": null,
   "id": "21876251-fb08-405c-955e-f40a80bb944c",
   "metadata": {},
   "outputs": [],
   "source": []
  },
  {
   "cell_type": "markdown",
   "id": "ae377f46-8e11-4798-b7f4-0cdad0f96c0e",
   "metadata": {},
   "source": [
    "- 作成したcomp_output.json.gzデータをチャンク1000ごとに読み込むユーザ関数を利用して取り込ませる"
   ]
  },
  {
   "cell_type": "code",
   "execution_count": null,
   "id": "b8a36811-2edf-4dc5-aca3-b2ac3b80cd2d",
   "metadata": {},
   "outputs": [],
   "source": [
    "# Bulk insert in chunks\n",
    "for chunk in load_json_in_chunks('comp_output.json.gz'):\n",
    "    collection.insert_many(chunk)"
   ]
  }
 ],
 "metadata": {
  "kernelspec": {
   "display_name": "Python 3",
   "language": "python",
   "name": "python3"
  },
  "language_info": {
   "codemirror_mode": {
    "name": "ipython",
    "version": 3
   },
   "file_extension": ".py",
   "mimetype": "text/x-python",
   "name": "python",
   "nbconvert_exporter": "python",
   "pygments_lexer": "ipython3",
   "version": "3.12.3"
  }
 },
 "nbformat": 4,
 "nbformat_minor": 5
}


## when you make query in mongoDB, you can use mongosh via command prompt ##
